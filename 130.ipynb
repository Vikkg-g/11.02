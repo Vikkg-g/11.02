{
 "cells": [
  {
   "cell_type": "code",
   "execution_count": 3,
   "metadata": {},
   "outputs": [],
   "source": [
    "import numpy as np "
   ]
  },
  {
   "cell_type": "code",
   "execution_count": 2,
   "metadata": {},
   "outputs": [
    {
     "name": "stdout",
     "output_type": "stream",
     "text": [
      "G = 15047025574.109768\n"
     ]
    }
   ],
   "source": [
    "# Задание 1 \n",
    "\n",
    "f = float(input('Введите значение переменной f'))\n",
    "y = float(input('Введите значение переменной y'))\n",
    "\n",
    "print(f'G = {(np.exp(2*y) + np.sin(f)) / (np.log10(3.8 * y + f))}')"
   ]
  },
  {
   "cell_type": "code",
   "execution_count": 3,
   "metadata": {},
   "outputs": [
    {
     "name": "stdout",
     "output_type": "stream",
     "text": [
      "G = 15047025574.109768\n"
     ]
    }
   ],
   "source": [
    "class MyClassTask1:\n",
    "    def __init__(self, f, y):\n",
    "        self.f = f\n",
    "        self.y = y\n",
    "        \n",
    "    def calculate_G(self):\n",
    "        print(f'G = {(np.exp(2*y) + np.sin(f))/(np.log10(3.8 * y + f))}')\n",
    "        \n",
    "f = float(input('Введите значение переменной f'))\n",
    "y = float(input('Введите значение переменной y'))\n",
    "        \n",
    "my_class = MyClassTask1(f, y)\n",
    "my_class.calculate_G()        "
   ]
  },
  {
   "cell_type": "code",
   "execution_count": 2,
   "metadata": {},
   "outputs": [
    {
     "name": "stdout",
     "output_type": "stream",
     "text": [
      "F = -22.647254851331983\n"
     ]
    }
   ],
   "source": [
    "# Задание 2\n",
    "d = float(input('Введите значение переменной d'))\n",
    "y = float(input('Введите значение переменной y'))\n",
    "\n",
    "print(f'F = {np.log10(d) + (3.5 * np.power(d, 2) + 1 ) / ( np.cos(2 * y))}')"
   ]
  },
  {
   "cell_type": "code",
   "execution_count": 5,
   "metadata": {},
   "outputs": [
    {
     "name": "stdout",
     "output_type": "stream",
     "text": [
      "F = 1191.614288512196\n"
     ]
    }
   ],
   "source": [
    "class MyClassTask2:\n",
    "    def __init__(self, d, y):\n",
    "        self.d = d\n",
    "        self.y = y\n",
    "        \n",
    "    def calculate_F(self):\n",
    "        print(f'F = {np.log10(d) + (3.5 * np.power(d, 2) + 1) / (np.cos(2 * y))}')\n",
    "        \n",
    "d = float(input('Введите значение переменной d'))\n",
    "y = float(input('Введите значение переменной y'))\n",
    "        \n",
    "my_class = MyClassTask2(d, y)\n",
    "my_class.calculate_F()       "
   ]
  },
  {
   "cell_type": "code",
   "execution_count": 4,
   "metadata": {},
   "outputs": [
    {
     "name": "stdout",
     "output_type": "stream",
     "text": [
      "U = -inf\n"
     ]
    },
    {
     "name": "stderr",
     "output_type": "stream",
     "text": [
      "C:\\Users\\vikto\\AppData\\Local\\Temp\\ipykernel_16064\\3450222139.py:5: RuntimeWarning: divide by zero encountered in log10\n",
      "  print(f'U = {np.log10( k - y) + np.power(y,4) / np.exp(y) + 2.355 * np.power(k,2)}')\n"
     ]
    }
   ],
   "source": [
    "# Задание 3\n",
    "k = float(input('Введите значение переменной k'))\n",
    "y = float(input('Введите значение переменной y'))\n",
    "\n",
    "print(f'U = {np.log10( k - y) + np.power(y,4) / np.exp(y) + 2.355 * np.power(k,2)}')\n"
   ]
  },
  {
   "cell_type": "code",
   "execution_count": 6,
   "metadata": {},
   "outputs": [
    {
     "name": "stdout",
     "output_type": "stream",
     "text": [
      "U = 2120.7950061895713\n"
     ]
    }
   ],
   "source": [
    "class MyClassTask3:\n",
    "    def __init__(self, k, y):\n",
    "        self.k = k\n",
    "        self.y = y\n",
    "        \n",
    "    def calculate_U(self):\n",
    "     print(f'U = {np.log10( k - y) + np.power(y,4) / np.exp(y) + 2.355 * np.power(k,2)}')\n",
    "        \n",
    "k = float(input('Введите значение переменной k'))\n",
    "y = float(input('Введите значение переменной y'))\n",
    "        \n",
    "my_class = MyClassTask3(k, y)\n",
    "my_class.calculate_U()    "
   ]
  },
  {
   "cell_type": "code",
   "execution_count": 14,
   "metadata": {},
   "outputs": [
    {
     "name": "stdout",
     "output_type": "stream",
     "text": [
      " G = 18565.0339706513\n"
     ]
    }
   ],
   "source": [
    "# Задание 4\n",
    "w = float(input('Введите значение переменной w'))\n",
    "y = float(input('Введите значение переменной y'))\n",
    "\n",
    "print(f' G = {(9.33 * np.power(w, 3) + np.sqrt(w)) / (np.log10(y + 3.5) + np.sqrt(y))}')"
   ]
  },
  {
   "cell_type": "code",
   "execution_count": 36,
   "metadata": {},
   "outputs": [
    {
     "name": "stdout",
     "output_type": "stream",
     "text": [
      " G = 16128.614300192949\n"
     ]
    }
   ],
   "source": [
    "class MyClassTask4:\n",
    "    def __init__(self, w, y):\n",
    "        self.w = w\n",
    "        self.y = y\n",
    "        \n",
    "    def calculate_G(self):\n",
    "        print(f' G = {(9.33 * np.power(w, 3) + np.sqrt(w)) / (np.log10(y + 3.5) + np.sqrt(y))}')\n",
    "        \n",
    "w = float(input('Введите значение переменной w'))\n",
    "y = float(input('Введите значение переменной y'))\n",
    "        \n",
    "my_class = MyClassTask4(w, y)\n",
    "my_class.calculate_G()    "
   ]
  },
  {
   "cell_type": "code",
   "execution_count": 15,
   "metadata": {},
   "outputs": [
    {
     "name": "stdout",
     "output_type": "stream",
     "text": [
      "D = 0.007182269793865297\n"
     ]
    }
   ],
   "source": [
    "# Задание 5\n",
    "a = float(input('Введите значение переменной a'))\n",
    "y = float(input('Введите значение переменной y'))\n",
    "t = float(input('Введите значение переменной t'))\n",
    "\n",
    "print(f'D = {(7.8 * np.power(a, 2) + 3.52 * t) / (np.log10(a + 2 * y) + np.exp(y))}')"
   ]
  },
  {
   "cell_type": "code",
   "execution_count": 16,
   "metadata": {},
   "outputs": [
    {
     "name": "stdout",
     "output_type": "stream",
     "text": [
      "D = 2.640277867638346e-06\n"
     ]
    }
   ],
   "source": [
    "class MyClassTask5:\n",
    "    def __init__(self, t, y , a):\n",
    "        self.t = t\n",
    "        self.y = y\n",
    "        self.a = a\n",
    "        \n",
    "    def calculate_D(self):\n",
    "        print(f'D = {(7.8 * np.power(a, 2) + 3.52 * t) / (np.log10(a + 2 * y) + np.exp(y))}')\n",
    "        \n",
    "t = float(input('Введите значение переменной t'))\n",
    "y = float(input('Введите значение переменной y'))\n",
    "a = float(input('Введите значение переменной a'))\n",
    "        \n",
    "my_class = MyClassTask5(t, y , a)\n",
    "my_class.calculate_D()    "
   ]
  },
  {
   "cell_type": "code",
   "execution_count": 17,
   "metadata": {},
   "outputs": [
    {
     "name": "stdout",
     "output_type": "stream",
     "text": [
      "L = 3456.6333706308155\n"
     ]
    }
   ],
   "source": [
    "# Задание 6\n",
    "class MyClassTask5:\n",
    "    def __init__(self, i, y):\n",
    "        self.i = i\n",
    "        self.y = y\n",
    "          \n",
    "    def calculate_L(self):\n",
    "        print(f'L = {0.81 * np.cos(i) / np.log10(y) + 2 * np.power(i, 3)}')\n",
    "        \n",
    "i = float(input('Введите значение переменной i'))\n",
    "y = float(input('Введите значение переменной y'))\n",
    "        \n",
    "my_class = MyClassTask5(i, y)\n",
    "my_class.calculate_L() "
   ]
  },
  {
   "cell_type": "code",
   "execution_count": 18,
   "metadata": {},
   "outputs": [
    {
     "name": "stdout",
     "output_type": "stream",
     "text": [
      "N = 180.6568905919544\n"
     ]
    }
   ],
   "source": [
    "# Задание 7 \n",
    "class MyClassTask7:\n",
    "    def __init__(self, m, y):\n",
    "        self.y = y\n",
    "        self.m = m\n",
    "        \n",
    "    def calculate_N(self):\n",
    "        print(f'N = {np.power(m, 2) + 2.8 * m + 0.355 / np.cos(2 * y) + 3.6}')\n",
    "        \n",
    "m = float(input('Введите значение переменной m'))\n",
    "y = float(input('Введите значение переменной y'))\n",
    "        \n",
    "my_class = MyClassTask7(m ,y)\n",
    "my_class.calculate_N()   "
   ]
  },
  {
   "cell_type": "code",
   "execution_count": 19,
   "metadata": {},
   "outputs": [
    {
     "name": "stdout",
     "output_type": "stream",
     "text": [
      "T = -0.0004990566846604392\n"
     ]
    }
   ],
   "source": [
    "# Задание 8\n",
    "class MyClassTask8:\n",
    "    def __init__(self, t, y):\n",
    "        self.y = y\n",
    "        self.t = t\n",
    "        \n",
    "    def calculate_T(self):\n",
    "        print(f'T = {2.37 * np.sin(t + 1) / np.sqrt(4 * np.power(y, 2 ) - 0.1 * y + 5)}')\n",
    "        \n",
    "t = float(input('Введите значение переменной t'))\n",
    "y = float(input('Введите значение переменной y'))\n",
    "        \n",
    "my_class = MyClassTask8(t ,y)\n",
    "my_class.calculate_T()   \n"
   ]
  },
  {
   "cell_type": "code",
   "execution_count": 20,
   "metadata": {},
   "outputs": [
    {
     "name": "stdout",
     "output_type": "stream",
     "text": [
      "V = 13367830407.708952\n"
     ]
    }
   ],
   "source": [
    "# Задание 9\n",
    "class MyClassTask9:\n",
    "    def __init__(self, w, y):\n",
    "        self.y = y\n",
    "        self.w = w\n",
    "        \n",
    "    def calculate_V(self):\n",
    "        print(f'V = {np.power((y + 2 * w), 3) / np.log10(y + 0.75)}')\n",
    "        \n",
    "w = float(input('Введите значение переменной w'))\n",
    "y = float(input('Введите значение переменной y'))\n",
    "        \n",
    "my_class = MyClassTask9(w ,y)\n",
    "my_class.calculate_V()   "
   ]
  },
  {
   "cell_type": "code",
   "execution_count": 21,
   "metadata": {},
   "outputs": [
    {
     "name": "stdout",
     "output_type": "stream",
     "text": [
      "Z = 40.39789038057431\n"
     ]
    }
   ],
   "source": [
    "# Задание 10\n",
    "class MyClassTask10:\n",
    "    def __init__(self, t, y):\n",
    "        self.y = y\n",
    "        self.t = t\n",
    "        \n",
    "    def calculate_Z(self):\n",
    "        print(f'Z = {2 * t + y * np.cos(t) / np.sqrt(y + 4.831)}')\n",
    "        \n",
    "t = float(input('Введите значение переменной t'))\n",
    "y = float(input('Введите значение переменной y'))\n",
    "        \n",
    "my_class = MyClassTask10(t ,y)\n",
    "my_class.calculate_Z()   "
   ]
  },
  {
   "cell_type": "code",
   "execution_count": 22,
   "metadata": {},
   "outputs": [
    {
     "name": "stdout",
     "output_type": "stream",
     "text": [
      "D = 457.2371274140922\n"
     ]
    }
   ],
   "source": [
    "# Задание 11\n",
    "class MyClassTask11:\n",
    "    def __init__(self, n, y):\n",
    "        self.y = y\n",
    "        self.n = n\n",
    "        \n",
    "    def calculate_D(self):\n",
    "        print(f'D = { np.power(y, 2) + 0.5 * n + 4.8 / np.sin(y)}')\n",
    "        \n",
    "n = float(input('Введите значение переменной n'))\n",
    "y = float(input('Введите значение переменной y'))\n",
    "        \n",
    "my_class = MyClassTask11(n ,y)\n",
    "my_class.calculate_D()   "
   ]
  },
  {
   "cell_type": "code",
   "execution_count": 23,
   "metadata": {},
   "outputs": [
    {
     "name": "stdout",
     "output_type": "stream",
     "text": [
      "R = 1.1699348640532636 \n"
     ]
    }
   ],
   "source": [
    "# Задание 12\n",
    "class MyClassTask12:\n",
    "    def __init__(self, t, y):\n",
    "        self.y = y\n",
    "        self.t = t\n",
    "        \n",
    "    def calculate_R(self):\n",
    "        print(f'R = {np.sin(np.power((2 * t + 1),2)) + 0.3 / np.log10(t + y)} ')\n",
    "        \n",
    "t = float(input('Введите значение переменной t'))\n",
    "y = float(input('Введите значение переменной y'))\n",
    "        \n",
    "my_class = MyClassTask12(t ,y)\n",
    "my_class.calculate_R()   "
   ]
  },
  {
   "cell_type": "code",
   "execution_count": 24,
   "metadata": {},
   "outputs": [
    {
     "name": "stdout",
     "output_type": "stream",
     "text": [
      "A = 11171530437.930046\n"
     ]
    }
   ],
   "source": [
    "# Задание 13\n",
    "class MyClassTask13:\n",
    "    def __init__(self, h, y):\n",
    "        self.y = y\n",
    "        self.h = h\n",
    "        \n",
    "    def calculate_A(self):\n",
    "        print(f'A = {np.power((y + 2 * w), 3) / np.log10(y + 0.75)}')\n",
    "        \n",
    "h = float(input('Введите значение переменной h'))\n",
    "y = float(input('Введите значение переменной y'))\n",
    "        \n",
    "my_class = MyClassTask13(h ,y)\n",
    "my_class.calculate_A()   "
   ]
  },
  {
   "cell_type": "code",
   "execution_count": 25,
   "metadata": {},
   "outputs": [
    {
     "name": "stdout",
     "output_type": "stream",
     "text": [
      "P = 10546441376.439945\n"
     ]
    }
   ],
   "source": [
    "# Задание 14\n",
    "class MyClassTask14:\n",
    "    def __init__(self, h, y):\n",
    "        self.y = y\n",
    "        self.h = h\n",
    "        \n",
    "    def calculate_P(self):\n",
    "        print(f'P = {(np.exp(y + 2.5) + 7.7 * np.power(h, 3)) / (np.log(np.sqrt(y + 0.004 * h)))}')\n",
    "        \n",
    "h = float(input('Введите значение переменной h'))\n",
    "y = float(input('Введите значение переменной y'))\n",
    "        \n",
    "my_class = MyClassTask14(h ,y)\n",
    "my_class.calculate_P()   "
   ]
  },
  {
   "cell_type": "code",
   "execution_count": 26,
   "metadata": {},
   "outputs": [
    {
     "name": "stdout",
     "output_type": "stream",
     "text": [
      "F = 1.011911750948884\n"
     ]
    }
   ],
   "source": [
    "# Задание 15\n",
    "class MyClassTask15:\n",
    "    def __init__(self, j, y):\n",
    "        self.y = y\n",
    "        self.j = j\n",
    "        \n",
    "    def calculate_F(self):\n",
    "        print(f'F = {(2 * np.sin(0.354 * y + 1)) / (np.log10(y + 2 * j))}')\n",
    "        \n",
    "j = float(input('Введите значение переменной j'))\n",
    "y = float(input('Введите значение переменной y'))\n",
    "        \n",
    "my_class = MyClassTask15(h ,y)\n",
    "my_class.calculate_F()   "
   ]
  },
  {
   "cell_type": "code",
   "execution_count": 27,
   "metadata": {},
   "outputs": [
    {
     "name": "stdout",
     "output_type": "stream",
     "text": [
      "W = 3.2213797932117836e-11\n"
     ]
    }
   ],
   "source": [
    "# Задание 16\n",
    "class MyClassTask16:\n",
    "    def __init__(self, r, t):\n",
    "        self.r = r\n",
    "        self.t = t\n",
    "        \n",
    "    def calculate_W(self):\n",
    "        print(f'W = {(4 * np.power(t, 3) + np.log(r)) / (np.exp(y + r) + 7.2 * np.sin(r))}')\n",
    "        \n",
    "r = float(input('Введите значение переменной r'))\n",
    "t = float(input('Введите значение переменной t'))\n",
    "        \n",
    "my_class = MyClassTask16(r ,t)\n",
    "my_class.calculate_W()   "
   ]
  },
  {
   "cell_type": "code",
   "execution_count": 28,
   "metadata": {},
   "outputs": [
    {
     "name": "stdout",
     "output_type": "stream",
     "text": [
      "H = 0.12887019843309447\n"
     ]
    }
   ],
   "source": [
    "# Задание 17\n",
    "class MyClassTask17:\n",
    "    def __init__(self, n, y):\n",
    "        self.y = y\n",
    "        self.n = n\n",
    "        \n",
    "    def calculate_H(self):\n",
    "        print(f'H = {(np.power(y, 2) - 0.8 * y + np.sqrt(y)) / (23.1 * np.power(n, 2) + np.cos(n))}')\n",
    "        \n",
    "n = float(input('Введите значение переменной h'))\n",
    "y = float(input('Введите значение переменной y'))\n",
    "        \n",
    "my_class = MyClassTask17(h ,y)\n",
    "my_class.calculate_H()   "
   ]
  },
  {
   "cell_type": "code",
   "execution_count": 29,
   "metadata": {},
   "outputs": [
    {
     "name": "stdout",
     "output_type": "stream",
     "text": [
      "R = 0.01693921109559033\n"
     ]
    }
   ],
   "source": [
    "# Задание 18\n",
    "class MyClassTask18:\n",
    "    def __init__(self, k, y):\n",
    "        self.y = y\n",
    "        self.k = k\n",
    "        \n",
    "    def calculate_R(self):\n",
    "        print(f'R = {(np.sqrt(np.power(np.sin(y), 2)) + 6.835) / (np.log(y + k) + 3 * np.power(y, 2))}')\n",
    "        \n",
    "k = float(input('Введите значение переменной k'))\n",
    "y = float(input('Введите значение переменной y'))\n",
    "        \n",
    "my_class = MyClassTask18(k ,y)\n",
    "my_class.calculate_R()   "
   ]
  },
  {
   "cell_type": "code",
   "execution_count": 30,
   "metadata": {},
   "outputs": [
    {
     "name": "stdout",
     "output_type": "stream",
     "text": [
      "E = 0.4454648127526048\n"
     ]
    }
   ],
   "source": [
    "# Задание 19\n",
    "class MyClassTask19:\n",
    "    def __init__(self, q, y):\n",
    "        self.y = y\n",
    "        self.q = q\n",
    "        \n",
    "    def calculate_E(self):\n",
    "        print(f'E = {(np.log(0.7 * y + 2 * q)) / (np.sqrt(3 * np.power(y, 2)) + 0.5 * y + 4)}')\n",
    "        \n",
    "q = float(input('Введите значение переменной q'))\n",
    "y = float(input('Введите значение переменной y'))\n",
    "        \n",
    "my_class = MyClassTask19(q ,y)\n",
    "my_class.calculate_E()   "
   ]
  },
  {
   "cell_type": "code",
   "execution_count": 31,
   "metadata": {},
   "outputs": [
    {
     "name": "stdout",
     "output_type": "stream",
     "text": [
      "K = 31.775674283217864\n"
     ]
    }
   ],
   "source": [
    "# Задание 20\n",
    "class MyClassTask20:\n",
    "    def __init__(self, t, l):\n",
    "        self.t = t\n",
    "        self.l = l\n",
    "        \n",
    "    def calculate_K(self):\n",
    "        print(f'K = {(2 * np.power(t, 2) + 3 * l +7.2) / (np.log10(y + np.exp(2 * l)))}')\n",
    "        \n",
    "t = float(input('Введите значение переменной t'))\n",
    "l = float(input('Введите значение переменной l'))\n",
    "        \n",
    "my_class = MyClassTask20(t, l)\n",
    "my_class.calculate_K()   "
   ]
  },
  {
   "cell_type": "code",
   "execution_count": 32,
   "metadata": {},
   "outputs": [
    {
     "name": "stdout",
     "output_type": "stream",
     "text": [
      "Q = -3.5875545363339434\n"
     ]
    }
   ],
   "source": [
    "# Задание 21\n",
    "class MyClassTask21:\n",
    "    def __init__(self, k, p, x, d):\n",
    "        self.k = k\n",
    "        self.p = p \n",
    "        self.x = x\n",
    "        self.d = d\n",
    "        \n",
    "    def calculate_Q(self):\n",
    "        print(f'Q = {np.sqrt(k + 2.6 * p * np.sin(k)) / x - np.power(d, 3)}')\n",
    "        \n",
    "k = float(input('Введите значение переменной k'))\n",
    "p = float(input('Введите значение переменной p'))\n",
    "x = float(input('Введите значение переменной x'))\n",
    "d = float(input('Введите значение переменной d'))\n",
    "        \n",
    "my_class = MyClassTask21(k, p, x, d)\n",
    "my_class.calculate_Q()   "
   ]
  },
  {
   "cell_type": "code",
   "execution_count": 33,
   "metadata": {},
   "outputs": [
    {
     "name": "stdout",
     "output_type": "stream",
     "text": [
      "S = 1514.1186959173297\n"
     ]
    }
   ],
   "source": [
    "#  Задание 22\n",
    "class MyClassTask22:\n",
    "    def __init__(self, y, t):\n",
    "        self.y = y\n",
    "        self.t = t \n",
    "        \n",
    "    def calculate_S(self):\n",
    "        print(f'S = {(4.351 * np.power(y, 3) + 2 * t * np.log10(t)) / (np.sqrt(np.cos(2 * y)) + 4.351)}')\n",
    "        \n",
    "y = float(input('Введите значение переменной y'))\n",
    "t = float(input('Введите значение переменной t'))\n",
    "        \n",
    "my_class = MyClassTask22(y, t)\n",
    "my_class.calculate_S()   "
   ]
  },
  {
   "cell_type": "code",
   "execution_count": 34,
   "metadata": {},
   "outputs": [
    {
     "name": "stdout",
     "output_type": "stream",
     "text": [
      "R = 2.388798930565599e-05\n"
     ]
    }
   ],
   "source": [
    "# Задание 23\n",
    "class MyClassTask23:\n",
    "    def __init__(self, y, d):\n",
    "        self.y = y\n",
    "        self.d = d \n",
    "        \n",
    "    def calculate_R(self):\n",
    "        print(f'R = {(np.power(np.sin(y), 2) + 0.3 * d) / (np.exp(y) + np.log10(d))}')\n",
    "        \n",
    "y = float(input('Введите значение переменной y'))\n",
    "d = float(input('Введите значение переменной d'))\n",
    "        \n",
    "my_class = MyClassTask23(y, d)\n",
    "my_class.calculate_R()   "
   ]
  },
  {
   "cell_type": "code",
   "execution_count": 35,
   "metadata": {},
   "outputs": [
    {
     "name": "stdout",
     "output_type": "stream",
     "text": [
      "U = 7.759752202601003e-15\n"
     ]
    }
   ],
   "source": [
    "# Задание 24\n",
    "class MyClassTask24:\n",
    "    def __init__(self, y, k):\n",
    "        self.y = y\n",
    "        self.k = k \n",
    "        \n",
    "    def calculate_U(self):\n",
    "        print(f'U = {(np.log10(2 * k + 4.3)) / (np.exp(k + y) + np.sqrt(y))}')\n",
    "        \n",
    "y = float(input('Введите значение переменной y'))\n",
    "k = float(input('Введите значение переменной k'))\n",
    "        \n",
    "my_class = MyClassTask24(y, k)\n",
    "my_class.calculate_U()   "
   ]
  },
  {
   "cell_type": "code",
   "execution_count": 36,
   "metadata": {},
   "outputs": [
    {
     "name": "stdout",
     "output_type": "stream",
     "text": [
      "L = 231.71313895687953\n"
     ]
    }
   ],
   "source": [
    "# Задание 25\n",
    "class MyClassTask25:\n",
    "    def __init__(self, c, t):\n",
    "        self.c = c\n",
    "        self.t = t \n",
    "        \n",
    "    def calculate_L(self):\n",
    "        print(f'L = {np.power(np.cos(c), 2) + (3 * np.power(t, 2) + 4) / (np.sqrt(c + t))}')\n",
    "        \n",
    "c = float(input('Введите значение переменной c'))\n",
    "t = float(input('Введите значение переменной t'))\n",
    "        \n",
    "my_class = MyClassTask25(c, t)\n",
    "my_class.calculate_L()   "
   ]
  },
  {
   "cell_type": "code",
   "execution_count": 37,
   "metadata": {},
   "outputs": [
    {
     "name": "stdout",
     "output_type": "stream",
     "text": [
      "T = -0.5818781127448912\n"
     ]
    }
   ],
   "source": [
    "# Задание 26\n",
    "class MyClassTask26:\n",
    "    def __init__(self, y, u):\n",
    "        self.y = y\n",
    "        self.u = u \n",
    "        \n",
    "    def calculate_T(self):\n",
    "        print(f'T = {np.sin(2 * u) / (np.log10(2 * y + u))}')\n",
    "        \n",
    "y = float(input('Введите значение переменной y'))\n",
    "u = float(input('Введите значение переменной u'))\n",
    "        \n",
    "my_class = MyClassTask26(y, u)\n",
    "my_class.calculate_T()   "
   ]
  },
  {
   "cell_type": "code",
   "execution_count": null,
   "metadata": {},
   "outputs": [
    {
     "name": "stdout",
     "output_type": "stream",
     "text": [
      "Z = 153.82046008063088\n"
     ]
    },
    {
     "ename": "TypeError",
     "evalue": "MyClassTask27() takes no arguments",
     "output_type": "error",
     "traceback": [
      "\u001b[1;31m---------------------------------------------------------------------------\u001b[0m",
      "\u001b[1;31mTypeError\u001b[0m                                 Traceback (most recent call last)",
      "Cell \u001b[1;32mIn[8], line 16\u001b[0m\n\u001b[0;32m     13\u001b[0m p \u001b[38;5;241m=\u001b[39m \u001b[38;5;28mfloat\u001b[39m(\u001b[38;5;28minput\u001b[39m(\u001b[38;5;124m'\u001b[39m\u001b[38;5;124mВведите значение переменной p\u001b[39m\u001b[38;5;124m'\u001b[39m))\n\u001b[0;32m     14\u001b[0m y \u001b[38;5;241m=\u001b[39m \u001b[38;5;28mfloat\u001b[39m(\u001b[38;5;28minput\u001b[39m(\u001b[38;5;124m'\u001b[39m\u001b[38;5;124mВведите значение переменной y\u001b[39m\u001b[38;5;124m'\u001b[39m))\n\u001b[1;32m---> 16\u001b[0m my_class \u001b[38;5;241m=\u001b[39m MyClassTask27(y, p)\n\u001b[0;32m     17\u001b[0m my_class\u001b[38;5;241m.\u001b[39mcalculate_T()\n",
      "\u001b[1;31mTypeError\u001b[0m: MyClassTask27() takes no arguments"
     ]
    }
   ],
   "source": [
    "#Задание 27\n",
    "p = float(input('Введите значение переменной p'))\n",
    "y = float(input('Введите значение переменной y'))\n",
    "\n",
    "print(f'Z = {np.sin(np.power(p + 0.4, 2)) / np.power(y, 2) + 7.325 * p}')# Задание 27\n",
    "class MyClassTask27:\n",
    "    def init(self, y, p):\n",
    "        self.y = y\n",
    "        self.p = p \n",
    "        \n",
    "    def calculate_T(self):\n",
    "        print(f'Z = {np.sin(np.power(p + 0.4, 2)) / np.power(y, 2) + 7.325 * p}')\n",
    "        \n",
    "p = float(input('Введите значение переменной p'))\n",
    "y = float(input('Введите значение переменной y'))\n",
    "        \n",
    "my_class = MyClassTask27(y, p)\n",
    "my_class.calculate_T()"
   ]
  },
  {
   "cell_type": "code",
   "execution_count": null,
   "metadata": {},
   "outputs": [],
   "source": [
    "#Задание 28\n",
    "v = float(input('Введите значение переменной v'))\n",
    "e = float(input('Введите значение переменной e'))\n",
    "\n",
    "print(f'W = {0.004 * v + np.power(e ,2 * y) / np.power(e , y / 2)}')# Задание 28\n",
    "class MyClassTask28:\n",
    "    def init(self, v, e):\n",
    "        self.v = v\n",
    "        self.e = e \n",
    "        \n",
    "    def calculate_T(self):\n",
    "        print(f'W = {0.004 * v + np.power(e ,2 * y) / np.power(e , y / 2)}')\n",
    "        \n",
    "v = float(input('Введите значение переменной v'))\n",
    "e = float(input('Введите значение переменной e'))\n",
    "        \n",
    "my_class = MyClassTask28(v, e)\n",
    "my_class.calculate_T()\n"
   ]
  },
  {
   "cell_type": "code",
   "execution_count": null,
   "metadata": {},
   "outputs": [
    {
     "name": "stdout",
     "output_type": "stream",
     "text": [
      "T = 58.64994023880668\n"
     ]
    }
   ],
   "source": [
    "#Задание 29\n",
    "h = float(input('Введите значение переменной h'))\n",
    "e = float(input('Введите значение переменной e'))\n",
    "y = float(input('Введите значение переменной y'))\n",
    "\n",
    "print(f'T = {0.355 * np.power(h,2) - 4.355 / np.power(e , y + h) + np.sqrt(2.7 * y)}')# Задание 29\n",
    "class MyClassTask29:\n",
    "    def init(self, h, e, y):\n",
    "        self.h = h\n",
    "        self.e = e \n",
    "        self.y = y\n",
    "        \n",
    "    def calculate_T(self):\n",
    "        print(f'T {0.355 * np.power(h,2) - 4.355 / np.power(e , y + h) + np.sqrt(2.7 * y)}')\n",
    "        \n",
    "h = float(input('Введите значение переменной h'))\n",
    "e = float(input('Введите значение переменной e'))\n",
    "y = float(input('Введите значение переменной y'))\n",
    "        \n",
    "my_class = MyClassTask29(h, e, y)\n",
    "my_class.calculate_T()"
   ]
  },
  {
   "cell_type": "code",
   "execution_count": null,
   "metadata": {},
   "outputs": [],
   "source": [
    "#Задание 30\n",
    "p = float(input('Введите значение переменной p'))\n",
    "e = float(input('Введите значение переменной e'))\n",
    "y = float(input('Введите значение переменной y'))\n",
    "\n",
    "print(f'N = {3 * np.power(y,2) + np.sqrt(y) + 1 / np.log10(p + y) + np.power(e,p)}')  # Задание 30\n",
    "class MyClassTask30:\n",
    "    def init(self, p, e, y):\n",
    "        self.p = p\n",
    "        self.e = e \n",
    "        self.y = y\n",
    "        \n",
    "    def calculate_T(self):\n",
    "        print(f'N = {3 * np.power(y,2) + np.sqrt(y) + 1 / np.log10(p + y) + np.power(e,p)}')\n",
    "        \n",
    "p = float(input('Введите значение переменной p'))\n",
    "e = float(input('Введите значение переменной e'))\n",
    "y = float(input('Введите значение переменной y'))\n",
    "        \n",
    "my_class = MyClassTask30(p, e, y)\n",
    "my_class.calculate_T()"
   ]
  }
 ],
 "metadata": {
  "kernelspec": {
   "display_name": "base",
   "language": "python",
   "name": "python3"
  },
  "language_info": {
   "codemirror_mode": {
    "name": "ipython",
    "version": 3
   },
   "file_extension": ".py",
   "mimetype": "text/x-python",
   "name": "python",
   "nbconvert_exporter": "python",
   "pygments_lexer": "ipython3",
   "version": "3.12.7"
  }
 },
 "nbformat": 4,
 "nbformat_minor": 2
}
